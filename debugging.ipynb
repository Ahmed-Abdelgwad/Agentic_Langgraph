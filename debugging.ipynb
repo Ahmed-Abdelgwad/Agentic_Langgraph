{
 "cells": [
  {
   "cell_type": "code",
   "execution_count": 1,
   "id": "dfb42465",
   "metadata": {},
   "outputs": [
    {
     "data": {
      "text/plain": [
       "True"
      ]
     },
     "execution_count": 1,
     "metadata": {},
     "output_type": "execute_result"
    }
   ],
   "source": [
    "from typing import Annotated\n",
    "from typing_extensions import TypedDict\n",
    "from langchain_groq import ChatGroq\n",
    "from langchain.chat_models import init_chat_model\n",
    "from langchain_tavily import TavilySearch\n",
    "from langchain_core.tools import tool\n",
    "from langgraph.checkpoint.memory import MemorySaver\n",
    "from langgraph.graph import StateGraph, START, END\n",
    "from langgraph.graph.message import add_messages\n",
    "from langgraph.prebuilt import ToolNode, tools_condition\n",
    "from langgraph.types import Command, interrupt\n",
    "from langchain_core.messages import BaseMessage\n",
    "import os\n",
    "from dotenv import load_dotenv\n",
    "load_dotenv()"
   ]
  },
  {
   "cell_type": "code",
   "execution_count": 2,
   "id": "6850767a",
   "metadata": {},
   "outputs": [],
   "source": [
    "os.environ[\"GROQ_API_KEY\"] = os.getenv(\"GROQ_API_KEY\")\n",
    "os.environ[\"LANGCHAIN_API_KEY\"] = os.getenv(\"LANGCHAIN_API_KEY\")\n",
    "os.environ[\"LANGSMITH_TRACING\"] = \"true\""
   ]
  },
  {
   "cell_type": "code",
   "execution_count": null,
   "id": "128870a8",
   "metadata": {},
   "outputs": [
    {
     "data": {
      "text/plain": [
       "ChatGroq(client=<groq.resources.chat.completions.Completions object at 0x000001B12ADEBFE0>, async_client=<groq.resources.chat.completions.AsyncCompletions object at 0x000001B12B303F80>, model_name='llama-3.1-8b-instant', model_kwargs={}, groq_api_key=SecretStr('**********'))"
      ]
     },
     "execution_count": 3,
     "metadata": {},
     "output_type": "execute_result"
    }
   ],
   "source": [
    "llm = init_chat_model(\"groq:llama-3.1-8b-instant\")\n",
    "llm"
   ]
  },
  {
   "cell_type": "code",
   "execution_count": 4,
   "id": "128659d3",
   "metadata": {},
   "outputs": [],
   "source": [
    "class State(TypedDict):\n",
    "    messages:Annotated[list[BaseMessage], add_messages]"
   ]
  },
  {
   "cell_type": "code",
   "execution_count": 5,
   "id": "74b5a2c7",
   "metadata": {},
   "outputs": [],
   "source": [
    "# Graph with tool call\n",
    "# Graph with tool call\n",
    "@tool\n",
    "def add(x: float, y: float):\n",
    "    \"\"\"Adds two numbers.\"\"\"\n",
    "    return x + y\n",
    "\n",
    "tools=[add]\n",
    "tool_node = ToolNode([add])\n",
    "\n",
    "llm_with_tools = llm.bind_tools([add])\n",
    "\n",
    "def call_llm_model(state:State):\n",
    "    \"\"\"Call the LLM model with the current state.\"\"\"\n",
    "    messages = state[\"messages\"]\n",
    "    response = llm_with_tools.invoke(messages)\n",
    "    return response"
   ]
  },
  {
   "cell_type": "code",
   "execution_count": 6,
   "id": "130baa08",
   "metadata": {},
   "outputs": [
    {
     "data": {
      "image/png": "[encoded data removed]",
      "text/plain": [
       "<IPython.core.display.Image object>"
      ]
     },
     "metadata": {},
     "output_type": "display_data"
    }
   ],
   "source": [
    "## Node definition\n",
    "def call_llm_model(state:State):\n",
    "    return {\"messages\":[llm_with_tools.invoke(state['messages'])]}\n",
    "## Grpah\n",
    "builder=StateGraph(State)\n",
    "builder.add_node(\"tool_calling_llm\",call_llm_model)\n",
    "builder.add_node(\"tools\",ToolNode(tools))\n",
    "\n",
    "## Add Edges\n",
    "builder.add_edge(START, \"tool_calling_llm\")\n",
    "builder.add_conditional_edges(\n",
    "    \"tool_calling_llm\",\n",
    "    tools_condition\n",
    ")\n",
    "builder.add_edge(\"tools\",\"tool_calling_llm\")\n",
    "builder.add_edge(\"tool_calling_llm\", END)\n",
    "\n",
    "## compile the graph\n",
    "graph=builder.compile()\n",
    "\n",
    "from IPython.display import Image, display\n",
    "display(Image(graph.get_graph().draw_mermaid_png()))"
   ]
  },
  {
   "cell_type": "code",
   "execution_count": 7,
   "id": "c4e73fa2",
   "metadata": {},
   "outputs": [
    {
     "data": {
      "text/plain": [
       "{'messages': [HumanMessage(content='What is machine learning', additional_kwargs={}, response_metadata={}, id='3ffc24b8-0bec-4e85-97fa-dee7881e483c'),\n",
       "  AIMessage(content='Machine learning is a branch of artificial intelligence (AI) that involves the use of algorithms and statistical models to enable machines to learn from data, make decisions, and improve their performance on a task without being explicitly programmed.\\n\\nIn traditional programming, a computer is given a set of instructions that it follows to perform a specific task. In contrast, machine learning algorithms are trained on a dataset, and they can learn to recognize patterns, make predictions, and classify data without being explicitly told how to do so.\\n\\nThere are several key concepts in machine learning:\\n\\n1. **Supervised learning**: The algorithm is trained on a labeled dataset, where the correct output is already known.\\n2. **Unsupervised learning**: The algorithm is trained on an unlabeled dataset, and it must find patterns or relationships on its own.\\n3. **Reinforcement learning**: The algorithm learns by interacting with an environment and receiving feedback in the form of rewards or penalties.\\n4. **Deep learning**: A type of machine learning that uses neural networks with multiple layers to learn complex patterns in data.\\n\\nMachine learning has many applications, including:\\n\\n1. **Image recognition**: Identifying objects in images, such as faces, animals, or objects.\\n2. **Natural language processing**: Understanding and generating human language, such as text or speech.\\n3. **Predictive modeling**: Making predictions about future events, such as stock prices or weather forecasts.\\n4. **Recommendation systems**: Suggesting products or services based on user behavior and preferences.\\n5. **Autonomous vehicles**: Enabling cars to drive themselves and make decisions in real-time.\\n\\nSome of the key benefits of machine learning include:\\n\\n1. **Improved accuracy**: Machine learning algorithms can make predictions with high accuracy, even with complex or uncertain data.\\n2. **Increased efficiency**: Machine learning can automate many tasks, freeing up human time and resources.\\n3. **Enhanced decision-making**: Machine learning can provide insights and recommendations that inform business decisions.\\n4. **Personalization**: Machine learning can tailor experiences and products to individual users.\\n\\nHowever, machine learning also has some challenges and limitations, including:\\n\\n1. **Data quality**: Machine learning requires high-quality data to learn from, and poor data can lead to poor performance.\\n2. **Bias and fairness**: Machine learning algorithms can perpetuate biases and unfairness if they are trained on biased data.\\n3. **Explainability**: It can be difficult to understand how machine learning algorithms make decisions, which can lead to a lack of transparency.\\n4. **Security**: Machine learning models can be vulnerable to attacks and exploitation.\\n\\nOverall, machine learning is a powerful tool that can help organizations make better decisions, improve efficiency, and enhance customer experiences.', additional_kwargs={}, response_metadata={'token_usage': {'completion_tokens': 545, 'prompt_tokens': 216, 'total_tokens': 761, 'completion_time': 0.726666667, 'prompt_time': 0.02197362, 'queue_time': 0.091418788, 'total_time': 0.748640287}, 'model_name': 'llama-3.1-8b-instant', 'system_fingerprint': 'fp_c523237e5d', 'finish_reason': 'stop', 'logprobs': None}, id='run--19bf89c9-b8c8-4bf9-a5c7-cac41ce32fcd-0', usage_metadata={'input_tokens': 216, 'output_tokens': 545, 'total_tokens': 761})]}"
      ]
     },
     "execution_count": 7,
     "metadata": {},
     "output_type": "execute_result"
    }
   ],
   "source": [
    "response=graph.invoke({\"messages\":\"What is machine learning\"})\n",
    "response"
   ]
  },
  {
   "cell_type": "code",
   "execution_count": 8,
   "id": "28613ba2",
   "metadata": {},
   "outputs": [
    {
     "data": {
      "image/png": "[encoded data removed]",
      "text/plain": [
       "<IPython.core.display.Image object>"
      ]
     },
     "metadata": {},
     "output_type": "display_data"
    },
    {
     "data": {
      "text/plain": [
       "{'messages': [HumanMessage(content='what is 7 plus 20', additional_kwargs={}, response_metadata={}, id='2defde1d-7ad5-48bd-a956-4ae1c99700a2'),\n",
       "  AIMessage(content='', additional_kwargs={'tool_calls': [{'id': '14qwdrb1j', 'function': {'arguments': '{\"x\":7,\"y\":20}', 'name': 'add'}, 'type': 'function'}]}, response_metadata={'token_usage': {'completion_tokens': 18, 'prompt_tokens': 219, 'total_tokens': 237, 'completion_time': 0.032571578, 'prompt_time': 0.012965949, 'queue_time': 0.08696148399999999, 'total_time': 0.045537527}, 'model_name': 'llama-3.1-8b-instant', 'system_fingerprint': 'fp_c523237e5d', 'finish_reason': 'tool_calls', 'logprobs': None}, id='run--eda080ba-db2a-4d3d-9af5-9b3f5edd00b7-0', tool_calls=[{'name': 'add', 'args': {'x': 7, 'y': 20}, 'id': '14qwdrb1j', 'type': 'tool_call'}], usage_metadata={'input_tokens': 219, 'output_tokens': 18, 'total_tokens': 237}),\n",
       "  ToolMessage(content='27.0', name='add', id='7e02e021-91f6-46f8-a26d-1b43b6883ecf', tool_call_id='14qwdrb1j'),\n",
       "  AIMessage(content='The result of 7 plus 20 is 27.', additional_kwargs={}, response_metadata={'token_usage': {'completion_tokens': 13, 'prompt_tokens': 250, 'total_tokens': 263, 'completion_time': 0.019440938, 'prompt_time': 0.014775538, 'queue_time': 0.08953969499999999, 'total_time': 0.034216476}, 'model_name': 'llama-3.1-8b-instant', 'system_fingerprint': 'fp_c523237e5d', 'finish_reason': 'stop', 'logprobs': None}, id='run--422a5bbb-aa96-4282-adc2-68e81f0f55e0-0', usage_metadata={'input_tokens': 250, 'output_tokens': 13, 'total_tokens': 263})]}"
      ]
     },
     "execution_count": 8,
     "metadata": {},
     "output_type": "execute_result"
    }
   ],
   "source": [
    "from typing import Annotated\n",
    "from typing_extensions import TypedDict\n",
    "from langchain.chat_models import init_chat_model\n",
    "from langchain_core.tools import tool\n",
    "from langgraph.graph import StateGraph, START, END\n",
    "from langgraph.graph.message import add_messages\n",
    "from langgraph.prebuilt import ToolNode, tools_condition\n",
    "from langchain_core.messages import BaseMessage\n",
    "import os\n",
    "from dotenv import load_dotenv\n",
    "load_dotenv()\n",
    "\n",
    "# إعداد المفاتيح من البيئة\n",
    "os.environ[\"GROQ_API_KEY\"] = os.getenv(\"GROQ_API_KEY\")\n",
    "os.environ[\"LANGCHAIN_API_KEY\"] = os.getenv(\"LANGCHAIN_API_KEY\")\n",
    "os.environ[\"LANGSMITH_TRACING\"] = \"true\"\n",
    "\n",
    "# تهيئة نموذج الدردشة\n",
    "llm = init_chat_model(\"groq:llama-3.1-8b-instant\")\n",
    "\n",
    "# تعريف الحالة\n",
    "class State(TypedDict):\n",
    "    messages: Annotated[list[BaseMessage], add_messages]\n",
    "\n",
    "# تعريف أداة الجمع\n",
    "@tool\n",
    "def add(x: float, y: float):\n",
    "    \"\"\"Adds two numbers.\"\"\"\n",
    "    return x + y\n",
    "\n",
    "tools = [add]\n",
    "\n",
    "# ربط النموذج بالأدوات\n",
    "llm_with_tools = llm.bind_tools(tools)\n",
    "\n",
    "# تعريف دالة العقدة التي تستدعي النموذج\n",
    "def call_llm_model(state: State):\n",
    "    messages = state[\"messages\"]\n",
    "    response = llm_with_tools.invoke(messages)\n",
    "    return {\"messages\": [response]}\n",
    "\n",
    "# بناء المخطط\n",
    "builder = StateGraph(State)\n",
    "builder.add_node(\"llm_node\", call_llm_model)\n",
    "builder.add_node(\"tools\", ToolNode(tools))  # <-- هنا اسم العقدة يجب أن يكون \"tools\"\n",
    "\n",
    "# إضافة الحواف\n",
    "builder.add_edge(START, \"llm_node\")\n",
    "builder.add_conditional_edges(\"llm_node\", tools_condition)\n",
    "builder.add_edge(\"tools\", \"llm_node\")  # <-- هنا أيضًا \"tools\"\n",
    "builder.add_edge(\"llm_node\", END)\n",
    "\n",
    "# تجميع المخطط\n",
    "graph = builder.compile()\n",
    "\n",
    "# عرض المخطط\n",
    "from IPython.display import Image, display\n",
    "display(Image(graph.get_graph().draw_mermaid_png()))\n",
    "\n",
    "# تجربة المخطط\n",
    "response = graph.invoke({\"messages\": \"what is 7 plus 20\"})\n",
    "response\n"
   ]
  }
 ],
 "metadata": {
  "kernelspec": {
   "display_name": "Python 3",
   "language": "python",
   "name": "python3"
  },
  "language_info": {
   "codemirror_mode": {
    "name": "ipython",
    "version": 3
   },
   "file_extension": ".py",
   "mimetype": "text/x-python",
   "name": "python",
   "nbconvert_exporter": "python",
   "pygments_lexer": "ipython3",
   "version": "3.12.3"
  }
 },
 "nbformat": 4,
 "nbformat_minor": 5
}
