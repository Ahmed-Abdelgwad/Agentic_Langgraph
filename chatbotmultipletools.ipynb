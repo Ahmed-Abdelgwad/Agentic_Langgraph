{
 "cells": [
  {
   "cell_type": "code",
   "execution_count": 1,
   "id": "849ec4b1",
   "metadata": {},
   "outputs": [],
   "source": [
    "from langchain_community.utilities import ArxivAPIWrapper, WikipediaAPIWrapper\n",
    "from langchain_community.tools import ArxivQueryRun, WikipediaQueryRun"
   ]
  },
  {
   "cell_type": "code",
   "execution_count": 2,
   "id": "c42a68db",
   "metadata": {},
   "outputs": [],
   "source": [
    "api_wrapper_arxiv = ArxivAPIWrapper(top_k_results=2, doc_content_chars_max=5000)\n",
    "arxiv = ArxivQueryRun(api_wrapper=api_wrapper_arxiv, description=\"query arxiv for research papers\")\n"
   ]
  },
  {
   "cell_type": "code",
   "execution_count": 3,
   "id": "878acc3a",
   "metadata": {},
   "outputs": [
    {
     "data": {
      "text/plain": [
       "'Published: 2023-05-23\\nTitle: Fast and energy-efficient non-volatile III-V-on-silicon photonic phase shifter based on memristors\\nAuthors: Zhuoran Fang, Bassem Tossoun, Antoine Descos, Di Liang, Xue Huang, Geza Kurczveil, Arka Majumdar, Raymond G. Beausoleil\\nSummary: Silicon photonics has evolved from lab research to commercial products in the\\npast decade as it plays an increasingly crucial role in data communication for\\nnext-generation data centers and high performance computing1. Recently,\\nprogrammable silicon photonics has also found new applications in quantum2 and\\nclassical 3 information processing. A key component of programmable silicon\\nphotonic integrated circuits (PICs) is the phase shifter, traditionally\\nrealized via the thermo-optic or plasma dispersion effect which are weak,\\nvolatile, and power hungry. A non-volatile phase shifter can circumvent these\\nlimitations by requiring zero power to maintain the switched phases. Previously\\nnon-volatile phase modulation was achieved via phase-change4 or ferroelectric\\nmaterials5, but the switching energy remains high (pico to nano joules) and the\\nspeed is slow (micro to milli seconds). Here, we report a non-volatile\\nIII-V-on-silicon photonic phase shifter based on HfO2 memristor with sub-pJ\\nswitching energy (~400fJ), representing over an order of magnitude improvement\\nin energy efficiency compared to the state of the art. The non-volatile phase\\nshifter can be switched reversibly using a single 100ns pulse and exhibits an\\nexcellent endurance over 800 cycles. This technology can enable future\\nenergy-efficient programmable PICs for data centers, optical neural networks,\\nand quantum information processing.\\n\\nPublished: 2011-04-21\\nTitle: Graphene quantum dots for valley-based quantum computing: A feasibility study\\nAuthors: G. Y. Wu, N. -Y. Lue, L. Chang\\nSummary: At the center of quantum computing1 realization is the physical\\nimplementation of qubits - two-state quantum information units. The rise of\\ngraphene2 has opened a new door to the implementation. Because graphene\\nelectrons simulate two-dimensional relativistic particles with two degenerate\\nand independent energy valleys,3 a novel degree of freedom (d.o.f.), namely,\\nthe valley state of an electron, emerges as a new information carrier.4 Here,\\nwe expand the Loss-DiVincenzo quantum dot (QD) approach in electron spin\\nqubits,5,6 and investigate the feasibility of double QD (DQD) structures in\\ngapful graphene as \"valley qubits\", with the logic 0 / 1 states represented by\\nthe \"valley\" singlet / triplet pair. This generalization is characterized by 1)\\nvalley relaxation time ~ O(ms), and 2) electric qubit manipulation on the time\\nscale ~ ns, based on the 1st-order \"relativistic effect\" unique in graphene. A\\npotential for valley-based quantum computing is present.'"
      ]
     },
     "execution_count": 3,
     "metadata": {},
     "output_type": "execute_result"
    }
   ],
   "source": [
    "arxiv.invoke(\"What is the latest research on quantum computing?\")"
   ]
  },
  {
   "cell_type": "code",
   "execution_count": 4,
   "id": "3baa459c",
   "metadata": {},
   "outputs": [
    {
     "data": {
      "text/plain": [
       "'Page: Quantum computing\\nSummary: A quantum computer is a computer that exploits quantum mechanical phenomena. On small scales, physical matter exhibits properties of both particles and waves, and quantum computing takes advantage of this behavior using specialized hardware. Classical physics cannot explain the operation of these quantum devices, and a scalable quantum computer could perform some calculations exponentially faster than any modern \"classical\" computer. Theoretically a large-scale q'"
      ]
     },
     "execution_count": 4,
     "metadata": {},
     "output_type": "execute_result"
    }
   ],
   "source": [
    "api_wrapper_wiki = WikipediaAPIWrapper(top_k_results=1, doc_content_chars_max=500)\n",
    "wiki = WikipediaQueryRun(api_wrapper=api_wrapper_wiki)\n",
    "wiki.invoke(\"What is quantum computing?\")"
   ]
  },
  {
   "cell_type": "code",
   "execution_count": 5,
   "id": "72473a85",
   "metadata": {},
   "outputs": [
    {
     "data": {
      "text/plain": [
       "'wikipedia'"
      ]
     },
     "execution_count": 5,
     "metadata": {},
     "output_type": "execute_result"
    }
   ],
   "source": [
    "wiki.name"
   ]
  },
  {
   "cell_type": "code",
   "execution_count": 6,
   "id": "fedfe288",
   "metadata": {},
   "outputs": [],
   "source": [
    "from dotenv import load_dotenv\n",
    "load_dotenv()\n",
    "\n",
    "import os\n",
    "\n",
    "os.environ[\"GROQ_API_KEY\"] = os.getenv(\"GROQ_API_KEY\") \n",
    "os.environ[\"TAVILY_API_KEY\"] = os.getenv(\"TAVILY_API_KEY\")"
   ]
  },
  {
   "cell_type": "code",
   "execution_count": 7,
   "id": "08fdd920",
   "metadata": {},
   "outputs": [
    {
     "name": "stderr",
     "output_type": "stream",
     "text": [
      "C:\\Users\\AHMED ABD ELGWAD\\AppData\\Local\\Temp\\ipykernel_19564\\2455878858.py:3: LangChainDeprecationWarning: The class `TavilySearchResults` was deprecated in LangChain 0.3.25 and will be removed in 1.0. An updated version of the class exists in the :class:`~langchain-tavily package and should be used instead. To use it run `pip install -U :class:`~langchain-tavily` and import as `from :class:`~langchain_tavily import TavilySearch``.\n",
      "  tavily_search = TavilySearchResults()\n"
     ]
    },
    {
     "data": {
      "text/plain": [
       "[{'title': 'Breakthroughs in Quantum Computing - Wevolver',\n",
       "  'url': 'https://www.wevolver.com/article/breakthroughs-in-quantum-computing',\n",
       "  'content': 'Another recent pivotal development in the quantum computing field was the shift from emphasizing processor benchmarks to focusing on practical implementations. This transition is vital for transforming quantum computing from a theoretical concept into an applied technology with real-world applications. An updated analysis for 2023 projects indicates that industries like automotive, chemicals, financial services, and life sciences could see an economic impact of up to $1.3 trillion by 2035, [...] EurekAlert! UK Scientists make major breakthrough in developing practical quantum computers that can solve big challenges of our time. [Internet]. Washington: American Association for the Advancement of Science (AAAS). 2023 Feb 8. Available from: \\n\\n AWS and Harvard University researchers reported a breakthrough in quantum networking that improves data transmission over optical fibers. Tech Monitor. 2023 Oct 16. Available from: [...] ## Conclusion\\n\\n2023 was a transformative year for quantum computing, marked by remarkable achievements and promising trends that extended beyond academia to practical, real-world applications. These developments, led by collaborations between industry giants and leading universities, pave the way for quantum technologies that promise to revolutionize fields like cryptography, medicine, and energy.',\n",
       "  'score': 0.79522943},\n",
       " {'title': 'The Quantum Insider: Quantum Computing News & Top Stories',\n",
       "  'url': 'https://thequantuminsider.com/',\n",
       "  'content': 'Subscribe to our industry leading leading newsletter for the latest in quantum news and insights. [...] ###### Daines, Kim Resolution Celebrating 100 Years of Quantum Mechanics Passes U.S. Senate\\n\\nHYPERSPACE\\n\\n###### Scientists to Beam Quantum Data From Europe to Canada to Outsmart Tomorrow’s Hackers\\n\\n###### NSF Advances 29 Semifinalists in NSF Regional Innovation Engines Competition, Includes 3 Quantum Teams\\n\\nFlag of India\\n\\n###### Indian Companies Launch Effort to Build First Quantum-Secure Satellite\\n\\nHefei China [...] ### Ladders, Not Gates: Reimagining Access and Infrastructure in Quantum Workforce Development\\n\\n### Lydia Baril Joins C12 as Head of Innovation & Partnerships\\n\\n### TQI Exclusive: Microsoft’s Krysta Svore Says Geometric Error-Correcting Codes Are a Step Toward Practical Applications\\n\\n### Building Quantum Literacy: South Korea’s Strategic Integration of Science, Society, and Sovereignty\\n\\nD-Wave q1 2025\\n\\n### D-Wave Posts Record Revenue, Touts Quantum Advances in Q1 2025 Report\\n\\nquantum index',\n",
       "  'score': 0.7498395},\n",
       " {'title': 'The Year of Quantum: From concept to reality in 2025 - McKinsey',\n",
       "  'url': 'https://www.mckinsey.com/capabilities/mckinsey-digital/our-insights/the-year-of-quantum-from-concept-to-reality-in-2025',\n",
       "  'content': 'Explore the latest advancements in quantum computing, sensing, and communication with our comprehensive Quantum Technology Monitor 2025.',\n",
       "  'score': 0.7004242},\n",
       " {'title': \"IBM Sets the Course to Build World's First Large-Scale, Fault ...\",\n",
       "  'url': 'https://newsroom.ibm.com/2025-06-10-IBM-Sets-the-Course-to-Build-Worlds-First-Large-Scale,-Fault-Tolerant-Quantum-Computer-at-New-IBM-Quantum-Data-Center',\n",
       "  'content': '# All press releases\\n\\n# IBM Sets the Course to Build World\\'s First Large-Scale, Fault-Tolerant Quantum Computer at New IBM Quantum Data Center\\n\\nYORKTOWN HEIGHTS, N.Y., June 10, 2025/PRNewswire/ -- IBM (NYSE: IBM) unveiled its path to build the world\\'s first large-scale, fault-tolerant quantum computer, setting the stage for practical and scalable quantum computing. [...] \"IBM is charting the next frontier in quantum computing,\" said Arvind Krishna, Chairman and CEO, IBM. \"Our expertise across mathematics, physics, and engineering is paving the way for a large-scale, fault-tolerant quantum computer — one that will solve real-world challenges and unlock immense possibilities for business.\" [...] IBM, which already operates a large, global fleet of quantum computers, is releasing a new Quantum Roadmap that outlines its plans to build out a practical, fault-tolerant quantum computer.',\n",
       "  'score': 0.59824234},\n",
       " {'title': '3 Millionaire-Maker Quantum Computing Stocks | The Motley Fool',\n",
       "  'url': 'https://www.fool.com/investing/2025/07/12/3-millionaire-maker-quantum-computing-stocks/',\n",
       "  'content': \"Alphabet (GOOG 1.47%) (GOOGL 1.46%) kicked off the quantum computing arms race in December 2024 with the announcement of its Willow quantum computing chip. The chip completed a task in five minutes that would have taken the world's most powerful supercomputer 10 septillion years (10 to the 25th power) to accomplish. This test was rigged to demonstrate how a quantum computer operates, but what was significant was how accurately it did so. [...] Microsoft claims to have created a new state of matter in its Majorana 1 quantum computing chip that allows it to control the qubits precisely. This makes the calculation incredibly accurate, once again addressing the key problem with quantum computers currently.\\n\\nMicrosoft has similar advantages to Alphabet, and its presence in the quantum computing space should not be overlooked.\\n\\n## IonQ [...] Quantum computing is one of the hottest trends in the market. It's an innovative technology that's starting to gain wider adoption, but we're still a few years away from widespread commercial use. The trick with quantum computing investing is to get into the leaders before they take off, but not so early that the stocks are essentially dead money until the quantum computing arms race picks up steam.\",\n",
       "  'score': 0.5957048}]"
      ]
     },
     "execution_count": 7,
     "metadata": {},
     "output_type": "execute_result"
    }
   ],
   "source": [
    "from langchain_community.tools.tavily_search import TavilySearchResults\n",
    "\n",
    "tavily_search = TavilySearchResults()\n",
    "tavily_search.invoke(\"What is the latest news on quantum computing?\")"
   ]
  },
  {
   "cell_type": "code",
   "execution_count": 8,
   "id": "708f87bf",
   "metadata": {},
   "outputs": [],
   "source": [
    "# Tools\n",
    "tools = [arxiv, wiki, tavily_search]\n"
   ]
  },
  {
   "cell_type": "code",
   "execution_count": 9,
   "id": "39b95ab1",
   "metadata": {},
   "outputs": [],
   "source": [
    "from langchain_groq import ChatGroq\n",
    "llm = ChatGroq(\n",
    "    model=\"llama-3.1-8b-instant\"\n",
    ")"
   ]
  },
  {
   "cell_type": "code",
   "execution_count": 10,
   "id": "08dcc43b",
   "metadata": {},
   "outputs": [
    {
     "data": {
      "text/plain": [
       "AIMessage(content='Quantum computing is a new and emerging technology that uses the principles of quantum mechanics to perform calculations and operations on data. It\\'s a revolutionary approach to computing that has the potential to solve complex problems much faster than classical computers.\\n\\n**Classical vs. Quantum Computing**\\n\\nClassical computers use \"bits\" to store and process information, which can have a value of either 0 or 1. This binary system is the foundation of all classical computing. However, as the number of bits increases, the number of possible combinations grows exponentially, leading to a limitation in processing power.\\n\\nQuantum computers, on the other hand, use \"qubits\" (quantum bits) to store and process information. Qubits are unique in that they can exist in multiple states simultaneously, known as a superposition. This means that a qubit can represent not just 0 and 1, but also any combination of 0 and 1 at the same time.\\n\\n**Key Principles of Quantum Computing**\\n\\n1. **Superposition**: Qubits can exist in multiple states simultaneously.\\n2. **Entanglement**: Qubits can be connected in a way that their properties are correlated, even when separated by large distances.\\n3. **Quantum Measurement**: When a qubit is measured, its state collapses to one of the possible outcomes.\\n4. **Quantum Gating**: Qubits can be manipulated using quantum gates, which are the quantum equivalent of logic gates in classical computing.\\n\\n**Quantum Computing Applications**\\n\\nQuantum computing has the potential to solve complex problems in various fields, including:\\n\\n1. **Cryptography**: Break current encryption methods and create unbreakable encryption.\\n2. **Optimization**: Solve complex optimization problems, such as logistics and resource allocation.\\n3. **Materials Science**: Simulate the behavior of materials at the atomic level, leading to breakthroughs in fields like chemistry and physics.\\n4. **Machine Learning**: Speed up machine learning algorithms and improve their accuracy.\\n5. **Simulation**: Simulate complex systems, such as weather patterns and chemical reactions, at an unprecedented level of detail.\\n\\n**Challenges and Limitations**\\n\\nWhile quantum computing has tremendous potential, it\\'s still a developing field, and several challenges need to be overcome, including:\\n\\n1. **Error Correction**: Quantum computers are prone to errors due to the fragile nature of qubits.\\n2. **Scalability**: Currently, quantum computers are small-scale and need to be scaled up to perform complex calculations.\\n3. **Quantum Noise**: Quantum computers are sensitive to environmental noise, which can cause errors.\\n\\n**Conclusion**\\n\\nQuantum computing is a revolutionary technology that has the potential to solve complex problems much faster than classical computers. However, it\\'s still a developing field, and several challenges need to be overcome before it becomes widely available.', additional_kwargs={}, response_metadata={'token_usage': {'completion_tokens': 564, 'prompt_tokens': 40, 'total_tokens': 604, 'completion_time': 0.752, 'prompt_time': 0.001940738, 'queue_time': 0.089930972, 'total_time': 0.753940738}, 'model_name': 'llama-3.1-8b-instant', 'system_fingerprint': 'fp_510c177af0', 'service_tier': 'on_demand', 'finish_reason': 'stop', 'logprobs': None}, id='run--dd929fad-db2e-43a8-bc43-42e5ac09594b-0', usage_metadata={'input_tokens': 40, 'output_tokens': 564, 'total_tokens': 604})"
      ]
     },
     "execution_count": 10,
     "metadata": {},
     "output_type": "execute_result"
    }
   ],
   "source": [
    "llm.invoke(\"What is quantum computing?\")  # Example invocation to test the model"
   ]
  },
  {
   "cell_type": "code",
   "execution_count": 11,
   "id": "9f540dc8",
   "metadata": {},
   "outputs": [
    {
     "data": {
      "text/plain": [
       "AIMessage(content='', additional_kwargs={'tool_calls': [{'id': 'v8r38qhd3', 'function': {'arguments': '{\"query\":\"quantum computing latest research\"}', 'name': 'arxiv'}, 'type': 'function'}, {'id': '01h0cfsjw', 'function': {'arguments': '{\"query\":\"quantum computing latest research\"}', 'name': 'wikipedia'}, 'type': 'function'}]}, response_metadata={'token_usage': {'completion_tokens': 36, 'prompt_tokens': 466, 'total_tokens': 502, 'completion_time': 0.059953547, 'prompt_time': 0.031185839, 'queue_time': 0.08705270500000001, 'total_time': 0.091139386}, 'model_name': 'llama-3.1-8b-instant', 'system_fingerprint': 'fp_510c177af0', 'service_tier': 'on_demand', 'finish_reason': 'tool_calls', 'logprobs': None}, id='run--b8d50f71-f873-4e31-b483-2bd4551db390-0', tool_calls=[{'name': 'arxiv', 'args': {'query': 'quantum computing latest research'}, 'id': 'v8r38qhd3', 'type': 'tool_call'}, {'name': 'wikipedia', 'args': {'query': 'quantum computing latest research'}, 'id': '01h0cfsjw', 'type': 'tool_call'}], usage_metadata={'input_tokens': 466, 'output_tokens': 36, 'total_tokens': 502})"
      ]
     },
     "execution_count": 11,
     "metadata": {},
     "output_type": "execute_result"
    }
   ],
   "source": [
    "llm_with_tools = llm.bind_tools(tools=tools)\n",
    "\n",
    "# Example invocation with tools\n",
    "llm_with_tools.invoke(\"What is the latest research on quantum computing?\")  # Print the response from the model with tools"
   ]
  },
  {
   "cell_type": "code",
   "execution_count": 12,
   "id": "ef2deeee",
   "metadata": {},
   "outputs": [
    {
     "data": {
      "text/plain": [
       "AIMessage(content='', additional_kwargs={'tool_calls': [{'id': '2azw8qhjn', 'function': {'arguments': '{\"query\":\"machine learning\"}', 'name': 'wikipedia'}, 'type': 'function'}]}, response_metadata={'token_usage': {'completion_tokens': 15, 'prompt_tokens': 463, 'total_tokens': 478, 'completion_time': 0.028652448, 'prompt_time': 0.030987862, 'queue_time': 0.08688024, 'total_time': 0.05964031}, 'model_name': 'llama-3.1-8b-instant', 'system_fingerprint': 'fp_510c177af0', 'service_tier': 'on_demand', 'finish_reason': 'tool_calls', 'logprobs': None}, id='run--a760b36d-6bfc-490a-af82-4cc2bf237b0f-0', tool_calls=[{'name': 'wikipedia', 'args': {'query': 'machine learning'}, 'id': '2azw8qhjn', 'type': 'tool_call'}], usage_metadata={'input_tokens': 463, 'output_tokens': 15, 'total_tokens': 478})"
      ]
     },
     "execution_count": 12,
     "metadata": {},
     "output_type": "execute_result"
    }
   ],
   "source": [
    "llm_with_tools.invoke(\"What is the machine learning?\")  # Print the response from the model with tools"
   ]
  },
  {
   "cell_type": "markdown",
   "id": "d06b2088",
   "metadata": {},
   "source": [
    "# Workflow\n"
   ]
  },
  {
   "cell_type": "code",
   "execution_count": 13,
   "id": "47d23f65",
   "metadata": {},
   "outputs": [],
   "source": [
    "from typing_extensions import TypedDict\n",
    "from langchain_core.messages import AnyMessage\n",
    "from typing import Annotated\n",
    "from langgraph.graph.message import add_messages"
   ]
  },
  {
   "cell_type": "code",
   "execution_count": 14,
   "id": "430db47c",
   "metadata": {},
   "outputs": [],
   "source": [
    "class State(TypedDict):\n",
    "    messages: Annotated[list[AnyMessage], add_messages]"
   ]
  },
  {
   "cell_type": "code",
   "execution_count": 15,
   "id": "4801a380",
   "metadata": {},
   "outputs": [],
   "source": [
    "from IPython.display import Image, display\n",
    "from langgraph.graph import StateGraph, START, END\n",
    "from langgraph.prebuilt import ToolNode, tools_condition"
   ]
  },
  {
   "cell_type": "code",
   "execution_count": 20,
   "id": "060ffff0",
   "metadata": {},
   "outputs": [
    {
     "data": {
      "image/png": "[encoded data removed]",
      "text/plain": [
       "<IPython.core.display.Image object>"
      ]
     },
     "metadata": {},
     "output_type": "display_data"
    }
   ],
   "source": [
    "def tool_calling_llm(state:State):\n",
    "    # Get the current state of the system\n",
    "    return {\"messages\":[llm_with_tools.invoke(state[\"messages\"])]}\n",
    "\n",
    "# Define the state graph\n",
    "builder = StateGraph(State)\n",
    "builder.add_node(\"tool_calling_llm\", tool_calling_llm)\n",
    "builder.add_node(\"tools\", ToolNode(tools))\n",
    "\n",
    "# Edges\n",
    "builder.add_edge(START, \"tool_calling_llm\")\n",
    "builder.add_conditional_edges(\"tool_calling_llm\", tools_condition)\n",
    "builder.add_edge(\"tools\", END)\n",
    "\n",
    "# Build the state graph\n",
    "graph = builder.compile()\n",
    "\n",
    "# Display the graph\n",
    "display(Image(graph.get_graph().draw_mermaid_png()))"
   ]
  },
  {
   "cell_type": "code",
   "execution_count": 23,
   "id": "3886d350",
   "metadata": {},
   "outputs": [
    {
     "name": "stdout",
     "output_type": "stream",
     "text": [
      "my name is John and I am a software engineer. What is quantum computing?\n",
      "\n",
      "Page: Quantum computing\n",
      "Summary: A quantum computer is a computer that exploits quantum mechanical phenomena. On small scales, physical matter exhibits properties of both particles and waves, and quantum computing takes advantage of this behavior using specialized hardware. Classical physics cannot explain the operation of these quantum devices, and a scalable quantum computer could perform some calculations exponentially faster than any modern \"classical\" computer. Theoretically a large-scale q\n",
      "Page: Software engineering\n",
      "Summary: Software engineering is a branch of both computer science and engineering focused on designing, developing, testing, and maintaining software applications. It involves applying engineering principles and computer programming expertise to develop software systems that meet user needs.\n",
      "The terms programmer and coder overlap software engineer, but they imply only the construction aspect of a typical software engineer workload.\n",
      "A software engineer applies a softwa\n",
      "No good Wikipedia Search Result was found\n"
     ]
    },
    {
     "name": "stderr",
     "output_type": "stream",
     "text": [
      "d:\\Langgraph\\venv\\Lib\\site-packages\\wikipedia\\wikipedia.py:389: GuessedAtParserWarning: No parser was explicitly specified, so I'm using the best available HTML parser for this system (\"html.parser\"). This usually isn't a problem, but if you run this code on another system, or in a different virtual environment, it may use a different parser and behave differently.\n",
      "\n",
      "The code that caused this warning is on line 389 of the file d:\\Langgraph\\venv\\Lib\\site-packages\\wikipedia\\wikipedia.py. To get rid of this warning, pass the additional argument 'features=\"html.parser\"' to the BeautifulSoup constructor.\n",
      "\n",
      "  lis = BeautifulSoup(html).find_all('li')\n"
     ]
    }
   ],
   "source": [
    "from langchain_core.messages import HumanMessage\n",
    "\n",
    "message = graph.invoke({\n",
    "    \"messages\": [HumanMessage(content=\"my name is John and I am a software engineer. What is quantum computing?\")]\n",
    "})\n",
    "\n",
    "for m in message[\"messages\"]:\n",
    "    print(m.content)  # Print the content of each message\n",
    "    # m.pretty_print()"
   ]
  },
  {
   "cell_type": "code",
   "execution_count": 24,
   "id": "63340802",
   "metadata": {},
   "outputs": [
    {
     "data": {
      "image/png": "[encoded data removed]",
      "text/plain": [
       "<IPython.core.display.Image object>"
      ]
     },
     "metadata": {},
     "output_type": "display_data"
    }
   ],
   "source": [
    "def tool_calling_llm(state:State):\n",
    "    # Get the current state of the system\n",
    "    return {\"messages\":[llm_with_tools.invoke(state[\"messages\"])]}\n",
    "\n",
    "# Define the state graph\n",
    "builder = StateGraph(State)\n",
    "builder.add_node(\"tool_calling_llm\", tool_calling_llm)\n",
    "builder.add_node(\"tools\", ToolNode(tools))\n",
    "\n",
    "# Edges\n",
    "builder.add_edge(START, \"tool_calling_llm\")\n",
    "builder.add_conditional_edges(\"tool_calling_llm\", tools_condition)\n",
    "builder.add_edge(\"tools\", \"tool_calling_llm\")\n",
    "\n",
    "\n",
    "# Build the state graph\n",
    "graph = builder.compile()\n",
    "\n",
    "# Display the graph\n",
    "display(Image(graph.get_graph().draw_mermaid_png()))"
   ]
  },
  {
   "cell_type": "code",
   "execution_count": 26,
   "id": "6a44acc1",
   "metadata": {},
   "outputs": [
    {
     "name": "stdout",
     "output_type": "stream",
     "text": [
      "================================\u001b[1m Human Message \u001b[0m=================================\n",
      "\n",
      "my name is John and I am a software engineer. What is quantum computing?\n",
      "==================================\u001b[1m Ai Message \u001b[0m==================================\n",
      "Tool Calls:\n",
      "  wikipedia (51nvvne4n)\n",
      " Call ID: 51nvvne4n\n",
      "  Args:\n",
      "    query: quantum computing\n",
      "  wikipedia (zecykvzby)\n",
      " Call ID: zecykvzby\n",
      "  Args:\n",
      "    query: software engineer\n",
      "=================================\u001b[1m Tool Message \u001b[0m=================================\n",
      "Name: wikipedia\n",
      "\n",
      "Page: Quantum computing\n",
      "Summary: A quantum computer is a computer that exploits quantum mechanical phenomena. On small scales, physical matter exhibits properties of both particles and waves, and quantum computing takes advantage of this behavior using specialized hardware. Classical physics cannot explain the operation of these quantum devices, and a scalable quantum computer could perform some calculations exponentially faster than any modern \"classical\" computer. Theoretically a large-scale q\n",
      "=================================\u001b[1m Tool Message \u001b[0m=================================\n",
      "Name: wikipedia\n",
      "\n",
      "Page: Software engineering\n",
      "Summary: Software engineering is a branch of both computer science and engineering focused on designing, developing, testing, and maintaining software applications. It involves applying engineering principles and computer programming expertise to develop software systems that meet user needs.\n",
      "The terms programmer and coder overlap software engineer, but they imply only the construction aspect of a typical software engineer workload.\n",
      "A software engineer applies a softwa\n",
      "==================================\u001b[1m Ai Message \u001b[0m==================================\n",
      "Tool Calls:\n",
      "  tavily_search_results_json (ypaec2ak5)\n",
      " Call ID: ypaec2ak5\n",
      "  Args:\n",
      "    query: quantum computing software engineer\n",
      "=================================\u001b[1m Tool Message \u001b[0m=================================\n",
      "Name: tavily_search_results_json\n",
      "\n",
      "[{\"title\": \"Quantum Software Engineer: Career Guide, Skills, and Job ...\", \"url\": \"https://quantumcomputingjobs.co.uk/career-advice/quantum-software-engineer-a-comprehensive-guide-for-job-seekers\", \"content\": \"To democratise quantum computing, Quantum Software Engineers often develop tools, libraries, and quantum programming environments that abstract the complexities of quantum programming. These tools include quantum programming languages like Qiskit, Cirq, and Quipper, as well as simulation frameworks and development environments. [...] A Quantum Software Engineer designs, develops, and optimises software and algorithms specifically for quantum computers. Their work involves translating classical algorithms into quantum algorithms, optimising these algorithms for quantum hardware, and creating tools that make quantum computing accessible to other developers and researchers.\\n\\n### Key Responsibilities:\\n\\n### 1. Developing Quantum Algorithms [...] The role of a Quantum Software Engineer is at the forefront of technological innovation, offering the opportunity to work on some of the most challenging and exciting problems in computing. As quantum computing continuesto evolve, the demand for skilled Quantum Software Engineers will grow, making this an excellent career choice for those passionate about both software development and quantum mechanics.\", \"score\": 0.9210814}, {\"title\": \"7 Highest Paying Quantum Computing Jobs [+Average Salary]\", \"url\": \"https://thequantuminsider.com/2022/04/20/top-quantum-computing-jobs-for-workers-in-emerging-quantum-fields/\", \"content\": \"One critical quantum computing job is a quantum software engineer. These engineers are expected to create software that is used to run extremely complex quantum computers. Because quantum computing is different from programming classic computers, skills and knowledge of classic programming is not readily translatable to quantum programming. Quantum software engineers, like other quantum computing jobs, are rare and therefore in demand. Quantum software engineers tend to be quantum information [...] Often, quantum computing jobs in the software segment will be focused on certain tasks of those algorithms. So, you might expect to find these positions listed as Quantum AI or Quantum machine learning developer, for example. Similarly, quantum cryptography software specialists are also needed by companies, particularly those in the security field and in industries that rely on cryptography to keep data secure, such as finance and national defense.\\n\\n### 7. Quantum Engineer [...] Quantum developers are also highly sought after.\\n\\nYou can expect salary ranges to fall slightly below a quantum software engineer, often starting in the mid-$90,000 range.\\n\\n### 6. Quantum Software Specialist\", \"score\": 0.910998}, {\"title\": \"Example Job Description for Quantum Computing Engineer - Yardstick\", \"url\": \"https://www.yardstick.team/job-description/quantum-computing-engineer\", \"content\": \"## What is a Quantum Computing Engineer?\\n\\nA Quantum Computing Engineer is a specialist who bridges the gap between theoretical quantum physics and practical engineering. These professionals develop quantum algorithms, contribute to quantum software and hardware innovations, and pioneer research in next-generation computing. Their work is critical to organizations seeking to maintain a competitive edge by harnessing the power of quantum technology.\\n\\n## What Does a Quantum Computing Engineer Do? [...] We are seeking a highly motivated and skilled Quantum Computing Engineer to join our dynamic team. In this role, you will be instrumental in developing groundbreaking quantum algorithms and enhancing our quantum software and hardware platforms.\\n\\n#### What Youâll Do ð\\n\\nBring your passion for quantum computing to life with tasks that include:\\n\\n#### What Weâre Looking For ð\\n\\n#### Our Values\\n\\n#### Compensation and Benefits\\n\\n#### Location [...] Quantum Computing Engineers are responsible for bringing the promise of quantum technology to reality. They design and implement quantum algorithms, optimize quantum hardware, and collaborate extensively with scientists and engineers. Their work involves continuous learning and innovative problem-solving to keep up with fast-evolving advancements in quantum computing.\\n\\n## Key Responsibilities of a Quantum Computing Engineer\\n\\n## Job Description\\n\\n#### Quantum Computing Engineer ð¬\", \"score\": 0.90039873}, {\"title\": \"Quantum Computing Job Market: Salaries, Demand, and Hiring ...\", \"url\": \"https://patentpc.com/blog/quantum-computing-job-market-salaries-demand-and-hiring-trends\", \"content\": \"7\\\\. Quantum software engineers earn between $110,000 and $160,000 on average\\n----------------------------------------------------------------------------\\n\\nWhile quantum hardware is essential, software engineers are just as critical. Quantum software engineers build the tools and frameworks that enable quantum computing applications.\\n\\nIf you’re already a software developer, learning quantum programming can set you apart. Python-based quantum frameworks like Qiskit are a great starting point. [...] While hardware teams are working on stabilizing qubits and reducing error rates, software engineers are building the frameworks, algorithms, and applications that businesses can use today.\\n\\nFor companies looking to enter the quantum space, investing in quantum software engineers is often the fastest way to get results. [...] 17\\\\. Quantum software engineers are currently in higher demand than quantum hardware specialists\\n------------------------------------------------------------------------------------------------\\n\\n### Why Businesses Are Prioritizing Quantum Software Talent\\n\\nQuantum hardware development is still evolving, but companies are increasingly focusing on quantum software engineers because they can create immediate value.\", \"score\": 0.8732259}, {\"title\": \"Software Engineer, Quantum Compiling - Google Careers\", \"url\": \"https://careers.google.com/jobs/results/119904887549895366-software-engineer/\", \"content\": \"The full potential of quantum computing will be unlocked with a large-scale computer capable of complex, error-corrected computations. Google Quantum AI's mission is to build this computer and unlock solutions to classically intractable problems. Our roadmap is focused on advancing the capabilities of quantum computing and enabling meaningful applications. [...] Key to Google's plans for practical realization of quantum computation is the encoding of quantum information in quantum error correcting codes. In order to achieve reliability, the information must be manipulated using protocols that are fault-tolerant (i.e., that do not allow errors to proliferate). [...] In this role, you will develop software for compiling logical quantum algorithms to low-level instructions that realize any given input algorithm fault-tolerantly in the presence of noise, decoherence, device defects and other imperfections. This includes frequent interactions, such as design discussions and pair programming, with research scientists. Other activities include software development in C++ under evolving requirements, writing python gluecode for integration with qubit control\", \"score\": 0.8306082}]\n",
      "==================================\u001b[1m Ai Message \u001b[0m==================================\n",
      "\n",
      "Quantum computing is a field that involves developing software and algorithms specifically for quantum computers. Quantum software engineers are responsible for creating tools, libraries, and quantum programming environments that abstract the complexities of quantum programming. They work on translating classical algorithms into quantum algorithms, optimizing these algorithms for quantum hardware, and creating tools that make quantum computing accessible to other developers and researchers.\n",
      "\n",
      "The role of a quantum software engineer is at the forefront of technological innovation, offering the opportunity to work on some of the most challenging and exciting problems in computing. As quantum computing continues to evolve, the demand for skilled quantum software engineers will grow, making this an excellent career choice for those passionate about both software development and quantum mechanics.\n",
      "\n",
      "Quantum software engineers tend to be quantum information theorists, computer scientists, and software developers with a deep understanding of quantum mechanics and quantum computing principles. They often work on developing quantum algorithms, optimizing quantum hardware, and creating tools that make quantum computing accessible to other developers and researchers.\n",
      "\n",
      "The salary range for quantum software engineers can vary depending on factors such as location, experience, and industry. However, according to various sources, the average salary for a quantum software engineer can range from $110,000 to $160,000 per year.\n",
      "\n",
      "Overall, quantum software engineering is a rapidly growing field that requires a unique combination of technical skills, knowledge of quantum mechanics, and innovative problem-solving abilities. As the demand for quantum computing continues to grow, the need for skilled quantum software engineers will increase, making this a promising career path for those interested in the field.\n"
     ]
    }
   ],
   "source": [
    "from langchain_core.messages import HumanMessage\n",
    "\n",
    "message = graph.invoke({\n",
    "    \"messages\": [HumanMessage(content=\"my name is John and I am a software engineer. What is quantum computing?\")]\n",
    "})\n",
    "\n",
    "for m in message[\"messages\"]:\n",
    "    # print(m.content)  # Print the content of each message\n",
    "    m.pretty_print()"
   ]
  }
 ],
 "metadata": {
  "kernelspec": {
   "display_name": "venv",
   "language": "python",
   "name": "python3"
  },
  "language_info": {
   "codemirror_mode": {
    "name": "ipython",
    "version": 3
   },
   "file_extension": ".py",
   "mimetype": "text/x-python",
   "name": "python",
   "nbconvert_exporter": "python",
   "pygments_lexer": "ipython3",
   "version": "3.12.3"
  }
 },
 "nbformat": 4,
 "nbformat_minor": 5
}
